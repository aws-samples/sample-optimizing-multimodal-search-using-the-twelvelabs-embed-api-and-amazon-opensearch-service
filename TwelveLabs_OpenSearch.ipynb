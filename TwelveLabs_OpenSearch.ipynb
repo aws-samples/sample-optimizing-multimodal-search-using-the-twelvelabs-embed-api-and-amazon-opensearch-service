{
 "cells": [
  {
   "cell_type": "markdown",
   "id": "4891459e-d7a2-4009-bd82-5ed9ef002264",
   "metadata": {
    "id": "4891459e-d7a2-4009-bd82-5ed9ef002264"
   },
   "source": [
    "## Installation of TwelveLabs SDKs"
   ]
  },
  {
   "cell_type": "code",
   "execution_count": null,
   "id": "9df5e27d-52bb-4384-a805-974504dedce0",
   "metadata": {
    "id": "9df5e27d-52bb-4384-a805-974504dedce0",
    "scrolled": true
   },
   "outputs": [],
   "source": [
    "!pip install -U -q twelvelabs"
   ]
  },
  {
   "cell_type": "markdown",
   "id": "808d79b4-0d9d-4adf-a413-d69e34ca6afb",
   "metadata": {
    "id": "808d79b4-0d9d-4adf-a413-d69e34ca6afb"
   },
   "source": [
    "## Configure your API key\n",
    "Add API Key as a env variable. Signup for TwelveLabs and Get your API keys [here](https://playground.twelvelabs.io/?_gl=1*1rx2bxa*_ga*MTUzMTIzMTI3MC4xNzI3OTAxMzE2*_ga_END0TB2RFD*MTc0MDE4NTM2NS4yNC4xLjE3NDAxODY1MjkuMC4wLjA.). No credit card is required to use the Free plan. The Free plan includes indexing of 600 mins of videos, which is enough for a small project.\n",
    "\n",
    "### Create an AWS Secrets Manager secret \n",
    "\n",
    "Follow steps here to [create a secret](https://docs.aws.amazon.com/secretsmanager/latest/userguide/create_secret.html) in AWS Secrets Manager. For example, name the secret as `TL_API_Key`.\n",
    "\n",
    "Note down the ARN or name of the secret (`TL_API_Key`) to retrieve. To retrieve a secret from another account, you must use an ARN.\n",
    "\n",
    "For an ARN, we recommend that you specify a complete ARN rather than a partial ARN. See [Finding a secret from a partial ARN](https://docs.aws.amazon.com/secretsmanager/latest/userguide/troubleshoot.html#ARN_secretnamehyphen).\n",
    "\n",
    "Use the name of the secret for the `SecretId` in the code block below."
   ]
  },
  {
   "cell_type": "code",
   "execution_count": null,
   "id": "iNolVL4mwv4s",
   "metadata": {
    "id": "iNolVL4mwv4s"
   },
   "outputs": [],
   "source": [
    "import boto3\n",
    "import json\n",
    "secrets_manager_client=boto3.client(\"secretsmanager\")\n",
    "API_secret=secrets_manager_client.get_secret_value(\n",
    "    SecretId=\"TL_API_KEY\"\n",
    ")\n",
    "TL_API_KEY=json.loads(API_secret[\"SecretString\"])[\"TL_API_Key\"]"
   ]
  },
  {
   "cell_type": "markdown",
   "id": "PcFSBsXVmAec",
   "metadata": {
    "id": "PcFSBsXVmAec"
   },
   "source": [
    "## Using video data\n",
    "\n",
    "For the demo, you will on these videos: [Robin bird forest Video by Federico Maderno from Pixabay](https://pixabay.com/videos/robin-bird-forest-nature-spring-21723/) and [Island Video by Bellergy RC from Pixabay](https://pixabay.com/videos/island-motorboat-sea-ocean-2946/). \n",
    "\n",
    "This demo depends upon some video data. To use this, we will download 2 mp4 files and upload it to an Amazon S3 bucket.\n",
    "\n",
    "1. Click on the links containing the [Robin bird forest Video by Federico Maderno from Pixabay](https://pixabay.com/videos/robin-bird-forest-nature-spring-21723/) and [Island Video by Bellergy RC from Pixabay](https://pixabay.com/videos/island-motorboat-sea-ocean-2946/) videos.\n",
    "1. Download the 21723-320725678_small.mp4 and 2946-164933125_small.mp4 files.\n",
    "1. Create an S3 bucket if you don't have one already. Follow the steps in the [Creating a bucket doc](https://docs.aws.amazon.com/AmazonS3/latest/userguide/create-bucket-overview.html). Note down the name of the bucket and replace it the code block below (Eg., `MYS3BUCKET`).\n",
    "1. Upload the 21723-320725678_small.mp4 and 2946-164933125_small.mp4 video files to the S3 bucket created in the step above by following the stesp in the [Uploading objects doc](https://docs.aws.amazon.com/AmazonS3/latest/userguide/upload-objects.html). Note down the name of the objects and replace it the code block below (Eg., `21723-320725678_small.mp4` and `2946-164933125_small.mp4`)\n"
   ]
  },
  {
   "cell_type": "code",
   "execution_count": null,
   "id": "lt1FW2uMmtML",
   "metadata": {
    "colab": {
     "base_uri": "https://localhost:8080/"
    },
    "executionInfo": {
     "elapsed": 19268,
     "status": "ok",
     "timestamp": 1737408628082,
     "user": {
      "displayName": "James Le",
      "userId": "09989148615746645736"
     },
     "user_tz": 420
    },
    "id": "lt1FW2uMmtML",
    "outputId": "af5b06ba-d302-4801-88a0-082c2c41d938"
   },
   "outputs": [],
   "source": [
    "s3_client=boto3.client(\"s3\")\n",
    "bird_video_data=s3_client.download_file(Bucket='MYS3BUCKET',  Key='21723-320725678_small.mp4', Filename='robin-bird.mp4')\n",
    "island_video_data=s3_client.download_file(Bucket='MYS3BUCKET',  Key='2946-164933125_small.mp4', Filename='island.mp4')"
   ]
  },
  {
   "cell_type": "markdown",
   "id": "7af48e42-96d8-4329-8268-bfc157fad67f",
   "metadata": {
    "id": "7af48e42-96d8-4329-8268-bfc157fad67f"
   },
   "source": [
    "## Generate Embeddings\n",
    "Use the Embed API to create multimodal embeddings that are contextual vector representations for your videos and texts. Twelve Labs video embeddings capture all the subtle cues and interactions between different modalities, including the visual expressions, body language, spoken words, and the overall context of the video, encapsulating the essence of all these modalities and their interrelations over time.\n",
    "\n",
    "To create video embeddings, you must first upload your videos, and the platform must finish processing them. Uploading and processing videos require some time. Consequently, creating embeddings is an asynchronous process comprised of three steps:\n",
    "\n",
    "1. Upload and process a video: When you start uploading a video, the platform creates a video embedding task and returns its unique task identifier.\n",
    "\n",
    "2. Monitor the status of your video embedding task: Use the unique identifier of your task to check its status periodically until it's completed.\n",
    "\n",
    "3. Retrieve the embeddings: After the video embedding task is completed, retrieve the video embeddings by providing the task identifier.\n",
    "Learn more in the [docs](https://docs.twelvelabs.io/docs/create-video-embeddings)"
   ]
  },
  {
   "cell_type": "code",
   "execution_count": null,
   "id": "970e5ea1-7b78-414a-bc44-0b8e2d251134",
   "metadata": {
    "collapsed": true,
    "jupyter": {
     "outputs_hidden": true
    }
   },
   "outputs": [],
   "source": [
    "from twelvelabs import TwelveLabs\n",
    "from typing import List\n",
    "from twelvelabs.models.embed import EmbeddingsTask, SegmentEmbedding\n",
    "\n",
    "def print_segments(segments: List[SegmentEmbedding], max_elements: int = 1024):\n",
    "    for segment in segments:\n",
    "        print(\n",
    "            f\"  embedding_scope={segment.embedding_scope} start_offset_sec={segment.start_offset_sec} end_offset_sec={segment.end_offset_sec}\"\n",
    "        )\n",
    "        print(f\"  embeddings: {segment.embeddings_float[:max_elements]}\")\n",
    "\n",
    "# Initialize client with API key\n",
    "twelvelabs_client = TwelveLabs(api_key=TL_API_KEY)\n",
    "\n",
    "video_files=[\"robin-bird.mp4\", \"island.mp4\"]\n",
    "tasks=[]\n",
    "\n",
    "for video in video_files:\n",
    "    # Create embedding task\n",
    "    task = twelvelabs_client.embed.task.create(\n",
    "        model_name=\"Marengo-retrieval-2.7\",\n",
    "        video_file=video\n",
    "    )\n",
    "    print(\n",
    "        f\"Created task: id={task.id} engine_name={task.model_name} status={task.status}\"\n",
    "    )\n",
    "    \n",
    "    def on_task_update(task: EmbeddingsTask):\n",
    "        print(f\"  Status={task.status}\")\n",
    "    \n",
    "    status = task.wait_for_done(\n",
    "        sleep_interval=2,\n",
    "        callback=on_task_update\n",
    "    )\n",
    "    print(f\"Embedding done: {status}\")\n",
    "    \n",
    "    # Retrieve and inspect results\n",
    "    task = task.retrieve()\n",
    "    if task.video_embedding is not None and task.video_embedding.segments is not None:\n",
    "        print_segments(task.video_embedding.segments)\n",
    "    tasks.append(task)\n"
   ]
  },
  {
   "cell_type": "markdown",
   "id": "2aa6438c-5a54-4ebd-a565-034d8d833c2f",
   "metadata": {
    "id": "2aa6438c-5a54-4ebd-a565-034d8d833c2f"
   },
   "source": [
    "## Create OpenSearch Domain\n",
    "\n",
    "If you have an OpenSearch Service domain already, you can use the connection details for that domain. If you want to create a new domain, follow the steps in the [docs](https://docs.aws.amazon.com/opensearch-service/latest/developerguide/createupdatedomains.html).\n",
    "\n",
    "Follow [Operational best practices for Amazon OpenSearch Service](https://docs.aws.amazon.com/opensearch-service/latest/developerguide/bp.html)"
   ]
  },
  {
   "cell_type": "code",
   "execution_count": null,
   "id": "76b45f9a-4366-43e7-9dd6-7f5db19dab77",
   "metadata": {
    "colab": {
     "base_uri": "https://localhost:8080/"
    },
    "executionInfo": {
     "elapsed": 16239,
     "status": "ok",
     "timestamp": 1737408980720,
     "user": {
      "displayName": "James Le",
      "userId": "09989148615746645736"
     },
     "user_tz": 420
    },
    "id": "76b45f9a-4366-43e7-9dd6-7f5db19dab77",
    "outputId": "8c4f7add-d3d5-47f7-d14d-3ed431a558e3"
   },
   "outputs": [],
   "source": [
    "!pip install opensearch-py\n",
    "!pip install botocore\n",
    "!pip install requests-aws4auth"
   ]
  },
  {
   "cell_type": "markdown",
   "id": "9b7ba765",
   "metadata": {},
   "source": [
    "## Getting OpenSearch Domain URL\n",
    "Update your domain endpoint in the `host` section below.\n",
    "\n",
    "You can find the domain endpoint under 'General Information' within details of domain created earlier.\n",
    "\n",
    "Example: https://search-mydomain-1a2a3a4a5a6a7a8a9a0a9a8a7a.us-east-1.es.amazonaws.com\n",
    "\n",
    "[Create an AWS Secrets Manager secret](https://docs.aws.amazon.com/secretsmanager/latest/userguide/create_secret.html) for the Amazon OpenSearch username and password.\n",
    "\n",
    "Note down the ARN or name of the secret (Eg., `AOS_password`, `AOS_username`) to retrieve . To retrieve a secret from another account, you must use an ARN.\n",
    "\n",
    "For an ARN, we recommend that you specify a complete ARN rather than a partial ARN. See [Finding a secret from a partial ARN](https://docs.aws.amazon.com/secretsmanager/latest/userguide/troubleshoot.html#ARN_secretnamehyphen)."
   ]
  },
  {
   "cell_type": "code",
   "execution_count": null,
   "id": "15bd9a02-d5ad-4c46-b82e-14fe88908a84",
   "metadata": {
    "scrolled": true
   },
   "outputs": [],
   "source": [
    "import json\n",
    "from opensearchpy import OpenSearch, RequestsHttpConnection, helpers\n",
    "from requests.auth import HTTPBasicAuth\n",
    "\n",
    "# OpenSearch connection configuration\n",
    "# host = 'your-host.aos.us-east-1.on.aws'\n",
    "host = 'your-host.aos.us-east-1.on.aws'\n",
    "port = 443  # Default HTTPS port\n",
    "\n",
    "# Get OpenSearch credentials from Secrets Manager\n",
    "secrets_manager_client = boto3.client('secretsmanager')\n",
    "\n",
    "opensearch_username = secrets_manager_client.get_secret_value(\n",
    "    SecretId=\"AOS_username\"\n",
    ")\n",
    "opensearch_username_string = json.loads(opensearch_username[\"SecretString\"])[\"AOS_username\"]\n",
    "\n",
    "opensearch_password = secrets_manager_client.get_secret_value(\n",
    "    SecretId=\"AOS_password\"\n",
    ")\n",
    "opensearch_password_string = json.loads(opensearch_password[\"SecretString\"])[\"AOS_password\"]\n",
    "\n",
    "auth = (opensearch_username_string, opensearch_password_string)\n",
    "\n",
    "# Create the client configuration\n",
    "client_aos = OpenSearch(\n",
    "    hosts=[{'host': host, 'port': port}],\n",
    "    http_auth=auth,\n",
    "    use_ssl=True,\n",
    "    verify_certs=True,\n",
    "    connection_class=RequestsHttpConnection\n",
    ")\n",
    "\n",
    "# Test the connection\n",
    "try:\n",
    "    cluster_info = client_aos.info()\n",
    "    print(\"Successfully connected to OpenSearch\")\n",
    "    print(f\"Cluster info: {cluster_info}\")\n",
    "except Exception as e:\n",
    "    print(f\"Connection failed: {str(e)}\")\n",
    "\n",
    "# Define the enhanced index configuration\n",
    "index_name = 'twelvelabs_index'\n",
    "new_vector_index_definition = {\n",
    "    \"settings\": {\n",
    "        \"index\": {\n",
    "            \"knn\": \"true\",\n",
    "            \"number_of_shards\": 1,\n",
    "            \"number_of_replicas\": 0\n",
    "        }\n",
    "    },\n",
    "    \"mappings\": {\n",
    "        \"properties\": {\n",
    "            \"embedding_field\": {\n",
    "                \"type\": \"knn_vector\",\n",
    "                \"dimension\": 1024\n",
    "            },\n",
    "            \"video_title\": {\n",
    "                \"type\": \"text\",\n",
    "                \"fields\": {\n",
    "                    \"keyword\": {\n",
    "                        \"type\": \"keyword\"\n",
    "                    }\n",
    "                }\n",
    "            },\n",
    "            \"segment_start\": {\n",
    "                \"type\": \"date\"\n",
    "            },\n",
    "            \"segment_end\": {\n",
    "                \"type\": \"date\"\n",
    "            },\n",
    "            \"segment_id\": {\n",
    "                \"type\": \"text\"\n",
    "            }\n",
    "        }\n",
    "    }\n",
    "}\n",
    "\n",
    "# Create index if it doesn't exist\n",
    "client_aos.indices.create(index=index_name, body=new_vector_index_definition, ignore=400)\n",
    "\n",
    "# Function to perform vector search\n",
    "def search_similar_segments(query_vector, k=5):\n",
    "    query = {\n",
    "        \"size\": k,\n",
    "        \"_source\": [\"video_title\", \"segment_start\", \"segment_end\", \"segment_id\"],\n",
    "        \"query\": {\n",
    "            \"knn\": {\n",
    "                \"embedding_field\": {\n",
    "                    \"vector\": query_vector,\n",
    "                    \"k\": k\n",
    "                }\n",
    "            }\n",
    "        }\n",
    "    }\n",
    "    \n",
    "    response = client_aos.search(\n",
    "        index=index_name,\n",
    "        body=query\n",
    "    )\n",
    "\n",
    "    results = []\n",
    "    for hit in response['hits']['hits']:\n",
    "        result = {\n",
    "            'score': hit['_score'],\n",
    "            'title': hit['_source']['video_title'],\n",
    "            'start_time': hit['_source']['segment_start'],\n",
    "            'end_time': hit['_source']['segment_end'],\n",
    "            'segment_id': hit['_source']['segment_id']\n",
    "        }\n",
    "        results.append(result)\n",
    "\n",
    "    return (results)\n",
    "\n",
    "# Function to format search results\n",
    "def print_search_results(results):\n",
    "    print(\"\\nSearch Results:\")\n",
    "    print(\"-\" * 50)\n",
    "    for i, result in enumerate(results, 1):\n",
    "        print(f\"\\nResult {i}:\")\n",
    "        print(f\"Video: {result['title']}\")\n",
    "        print(f\"Time Range: {result['start_time']} - {result['end_time']}\")\n",
    "        print(f\"Similarity Score: {result['score']:.4f}\")\n",
    "\n",
    "# Example usage\n",
    "if __name__ == \"__main__\":\n",
    "    # Check if index exists\n",
    "    if client_aos.indices.exists(index=index_name):\n",
    "        print(f\"Index '{index_name}' configuration:\")\n",
    "        print(json.dumps(client_aos.indices.get(index=index_name), indent=2))\n",
    "    else:\n",
    "        print(f\"Index '{index_name}' does not exist\")\n"
   ]
  },
  {
   "cell_type": "markdown",
   "id": "mSX1zMSMy-QN",
   "metadata": {
    "id": "mSX1zMSMy-QN"
   },
   "source": [
    "## Upsert the video embeddings into OpenSearch"
   ]
  },
  {
   "cell_type": "code",
   "execution_count": null,
   "id": "537f2e8b-0abc-41cd-bd31-7614adbe3f1a",
   "metadata": {
    "colab": {
     "base_uri": "https://localhost:8080/"
    },
    "executionInfo": {
     "elapsed": 3456,
     "status": "ok",
     "timestamp": 1737409096051,
     "user": {
      "displayName": "James Le",
      "userId": "09989148615746645736"
     },
     "user_tz": 420
    },
    "id": "537f2e8b-0abc-41cd-bd31-7614adbe3f1a",
    "outputId": "beeaeca5-7816-4e79-d040-918e54fedbcb",
    "scrolled": true
   },
   "outputs": [],
   "source": [
    "from opensearchpy.helpers import bulk\n",
    "\n",
    "def generate_actions(tasks, video_files):\n",
    "    count = 0\n",
    "    for task in tasks:\n",
    "        # Check if video embeddings are available\n",
    "        if task.video_embedding is not None and task.video_embedding.segments is not None:\n",
    "            embeddings_doc = task.video_embedding.segments\n",
    "            \n",
    "            # Generate actions for bulk indexing\n",
    "            for doc_id, elt in enumerate(embeddings_doc):\n",
    "                yield {\n",
    "                    '_index': index_name,\n",
    "                    '_id': doc_id,\n",
    "                    '_source': {\n",
    "                        'embedding_field': elt.embeddings_float,\n",
    "                        'video_title': video_files[count],\n",
    "                        'segment_start': elt.start_offset_sec,\n",
    "                        'segment_end': elt.end_offset_sec,\n",
    "                        'segment_id': doc_id\n",
    "                    }\n",
    "                }\n",
    "        print(f\"Prepared bulk indexing data for task {count}\")\n",
    "        count += 1\n",
    "\n",
    "# Perform bulk indexing\n",
    "try:\n",
    "    success, failed = bulk(client_aos, generate_actions(tasks, video_files))\n",
    "    print(f\"Successfully indexed {success} documents\")\n",
    "    if failed:\n",
    "        print(f\"Failed to index {len(failed)} documents\")\n",
    "except Exception as e:\n",
    "    print(f\"Error during bulk indexing: {e}\")"
   ]
  },
  {
   "cell_type": "markdown",
   "id": "E4fBBANmzCT-",
   "metadata": {
    "id": "E4fBBANmzCT-"
   },
   "source": [
    "## Create Text Embeddings and Perform Text-to-Video Search"
   ]
  },
  {
   "cell_type": "code",
   "execution_count": null,
   "id": "32cdbe70-7efd-4666-8902-8c9e6207821c",
   "metadata": {
    "colab": {
     "base_uri": "https://localhost:8080/"
    },
    "executionInfo": {
     "elapsed": 547,
     "status": "ok",
     "timestamp": 1737409103784,
     "user": {
      "displayName": "James Le",
      "userId": "09989148615746645736"
     },
     "user_tz": 420
    },
    "id": "32cdbe70-7efd-4666-8902-8c9e6207821c",
    "outputId": "0a265846-9765-438b-ff0b-0f89283c338c",
    "scrolled": true
   },
   "outputs": [],
   "source": [
    "def print_segments(segments: List[SegmentEmbedding], max_elements: int = 1024):\n",
    "    for segment in segments:\n",
    "        print(\n",
    "            f\"  embedding_scope={segment.embedding_scope} start_offset_sec={segment.start_offset_sec} end_offset_sec={segment.end_offset_sec}\"\n",
    "        )\n",
    "        print(f\"  embeddings: {segment.embeddings_float[:max_elements]}\")\n",
    "\n",
    "# Create text embeddings\n",
    "text_res = twelvelabs_client.embed.create(\n",
    "  model_name=\"Marengo-retrieval-2.7\",\n",
    "  text=\"Bird eating food\",\n",
    ")\n",
    "\n",
    "print(\"Created a text embedding\")\n",
    "print(f\" Model: {text_res.model_name}\")\n",
    "\n",
    "if text_res.text_embedding is not None and text_res.text_embedding.segments is not None:\n",
    "        print_segments(text_res.text_embedding.segments)"
   ]
  },
  {
   "cell_type": "code",
   "execution_count": null,
   "id": "48b6a73f-432d-431f-a7f4-2e02d870939a",
   "metadata": {
    "colab": {
     "base_uri": "https://localhost:8080/"
    },
    "executionInfo": {
     "elapsed": 150,
     "status": "ok",
     "timestamp": 1737409109891,
     "user": {
      "displayName": "James Le",
      "userId": "09989148615746645736"
     },
     "user_tz": 420
    },
    "id": "48b6a73f-432d-431f-a7f4-2e02d870939a",
    "outputId": "44a9b2bf-8f3d-432a-afa3-ce365beb1ba4",
    "scrolled": true
   },
   "outputs": [],
   "source": [
    "vector_search = text_res.text_embedding.segments[0].embeddings_float\n",
    "print (vector_search)"
   ]
  },
  {
   "cell_type": "code",
   "execution_count": null,
   "id": "5baa9bbe-0877-4109-bbb3-624d1741e41e",
   "metadata": {
    "id": "5baa9bbe-0877-4109-bbb3-624d1741e41e"
   },
   "outputs": [],
   "source": [
    "# Perform vector search\n",
    "query_vector = vector_search\n",
    "text_to_video_search = search_similar_segments(query_vector)\n",
    "# print(text_video_search)\n",
    "    \n",
    "print_search_results(text_to_video_search)"
   ]
  },
  {
   "cell_type": "markdown",
   "id": "FnzDkeBnzI1j",
   "metadata": {
    "id": "FnzDkeBnzI1j"
   },
   "source": [
    "## Create Audio Embeddings and Perform Audio-to-Video Search\n",
    "\n",
    "You will work on this audio data to showcase audio to video search: [Rock 808 beat.mp3 by T_roy_920 -- License: Creative Commons 0](https://freesound.org/people/T_roy_920/sounds/425556/). We have downloaded the audio locally and uploaded it to the S3 bucket created earlier."
   ]
  },
  {
   "cell_type": "code",
   "execution_count": null,
   "id": "a2f9f616-979e-466e-b7c5-240099c895b6",
   "metadata": {},
   "outputs": [],
   "source": [
    "audio_data=s3_client.download_file(Bucket='krao-test-one',  Key='425556__t_roy_920__rock-808-beat.mp3', Filename='audio-data.mp3')"
   ]
  },
  {
   "cell_type": "code",
   "execution_count": null,
   "id": "a137e01f-577f-4d66-a764-f0b7bd2236fe",
   "metadata": {
    "colab": {
     "base_uri": "https://localhost:8080/"
    },
    "collapsed": true,
    "executionInfo": {
     "elapsed": 1434,
     "status": "ok",
     "timestamp": 1737409218116,
     "user": {
      "displayName": "James Le",
      "userId": "09989148615746645736"
     },
     "user_tz": 420
    },
    "id": "a137e01f-577f-4d66-a764-f0b7bd2236fe",
    "jupyter": {
     "outputs_hidden": true
    },
    "outputId": "d84740ab-dd65-4f42-9234-a3f6231611f2"
   },
   "outputs": [],
   "source": [
    "# Create audio embeddings\n",
    "audio_res = twelvelabs_client.embed.create(\n",
    "    model_name=\"Marengo-retrieval-2.7\",\n",
    "    audio_file=\"audio-data.mp3\",\n",
    ")\n",
    "\n",
    "print(f\"Created audio embedding: model_name={audio_res.model_name}\")\n",
    "print(f\" Model: {audio_res.model_name}\")\n",
    "\n",
    "if audio_res.audio_embedding is not None and audio_res.audio_embedding.segments is not None:\n",
    "    print_segments(audio_res.audio_embedding.segments)"
   ]
  },
  {
   "cell_type": "code",
   "execution_count": null,
   "id": "MH0kDKmxvwUs",
   "metadata": {
    "colab": {
     "base_uri": "https://localhost:8080/"
    },
    "collapsed": true,
    "executionInfo": {
     "elapsed": 121,
     "status": "ok",
     "timestamp": 1737409220104,
     "user": {
      "displayName": "James Le",
      "userId": "09989148615746645736"
     },
     "user_tz": 420
    },
    "id": "MH0kDKmxvwUs",
    "jupyter": {
     "outputs_hidden": true
    },
    "outputId": "3930cb7d-aad3-4427-f238-f79a1707f8a9"
   },
   "outputs": [],
   "source": [
    "vector_search = audio_res.audio_embedding.segments[0].embeddings_float\n",
    "print (vector_search)"
   ]
  },
  {
   "cell_type": "code",
   "execution_count": null,
   "id": "wmki405cZxHi",
   "metadata": {
    "id": "wmki405cZxHi"
   },
   "outputs": [],
   "source": [
    "# Perform vector search\n",
    "query_vector = vector_search\n",
    "audio_to_video_search = search_similar_segments(query_vector)\n",
    "# print(text_video_search)\n",
    "    \n",
    "print_search_results(audio_to_video_search)"
   ]
  },
  {
   "cell_type": "markdown",
   "id": "kOxuAWXYzLN2",
   "metadata": {
    "id": "kOxuAWXYzLN2"
   },
   "source": [
    "## Create Image Embeddings and Perform Image-to-Video Search\n",
    "\n",
    "You will work on this image data to showcase image to video search: [Ocean Image by shotbyjagar from Pixabay](https://pixabay.com/photos/ocean-water-sea-waves-seascape-5294270/). Download the image locally and uploaded it to the S3 bucket created earlier."
   ]
  },
  {
   "cell_type": "code",
   "execution_count": null,
   "id": "4eb1aeb4-5d4d-4911-8a50-1d92ccef8270",
   "metadata": {
    "colab": {
     "base_uri": "https://localhost:8080/"
    },
    "executionInfo": {
     "elapsed": 792,
     "status": "ok",
     "timestamp": 1737409266811,
     "user": {
      "displayName": "James Le",
      "userId": "09989148615746645736"
     },
     "user_tz": 420
    },
    "id": "4eb1aeb4-5d4d-4911-8a50-1d92ccef8270",
    "outputId": "a787a436-1ba3-4e5c-e41b-b1c0b3fee34c",
    "scrolled": true
   },
   "outputs": [],
   "source": [
    "# Create image embeddings\n",
    "image_data=s3_client.download_file(Bucket='krao-test-one',  Key='ocean-5294270_1280.jpg', Filename='image-data.jpg')\n",
    "\n",
    "image_res = twelvelabs_client.embed.create(\n",
    "    model_name=\"Marengo-retrieval-2.7\",\n",
    "    image_file=\"image-data.jpg\",\n",
    ")\n",
    "\n",
    "print(f\"Created image embedding: model_name={image_res.model_name}\")\n",
    "print(f\" Model: {image_res.model_name}\")\n",
    "\n",
    "if image_res.image_embedding is not None and image_res.image_embedding.segments is not None:\n",
    "    print_segments(image_res.image_embedding.segments)"
   ]
  },
  {
   "cell_type": "code",
   "execution_count": null,
   "id": "O5m6YajYaEIv",
   "metadata": {
    "colab": {
     "base_uri": "https://localhost:8080/"
    },
    "collapsed": true,
    "executionInfo": {
     "elapsed": 159,
     "status": "ok",
     "timestamp": 1737409268313,
     "user": {
      "displayName": "James Le",
      "userId": "09989148615746645736"
     },
     "user_tz": 420
    },
    "id": "O5m6YajYaEIv",
    "jupyter": {
     "outputs_hidden": true
    },
    "outputId": "e37713dc-0ad8-4259-ce5d-2081f808bf5c"
   },
   "outputs": [],
   "source": [
    "vector_search = image_res.image_embedding.segments[0].embeddings_float\n",
    "print (vector_search)"
   ]
  },
  {
   "cell_type": "code",
   "execution_count": null,
   "id": "7ydnh66MaCg4",
   "metadata": {
    "id": "7ydnh66MaCg4"
   },
   "outputs": [],
   "source": [
    "# Perform vector search\n",
    "query_vector = vector_search\n",
    "image_to_video_search = search_similar_segments(query_vector)\n",
    "# print(text_video_search)\n",
    "    \n",
    "print_search_results(image_to_video_search)"
   ]
  },
  {
   "cell_type": "code",
   "execution_count": null,
   "id": "4feada16-1ee1-47ca-b7aa-7b7339d07696",
   "metadata": {},
   "outputs": [],
   "source": []
  }
 ],
 "metadata": {
  "colab": {
   "provenance": []
  },
  "kernelspec": {
   "display_name": "Python 3 (ipykernel)",
   "language": "python",
   "name": "python3"
  },
  "language_info": {
   "codemirror_mode": {
    "name": "ipython",
    "version": 3
   },
   "file_extension": ".py",
   "mimetype": "text/x-python",
   "name": "python",
   "nbconvert_exporter": "python",
   "pygments_lexer": "ipython3",
   "version": "3.11.10"
  }
 },
 "nbformat": 4,
 "nbformat_minor": 5
}
